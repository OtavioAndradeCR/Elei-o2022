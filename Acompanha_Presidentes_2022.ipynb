{
  "cells": [
    {
      "cell_type": "markdown",
      "metadata": {
        "id": "view-in-github",
        "colab_type": "text"
      },
      "source": [
        "<a href=\"https://colab.research.google.com/github/OtavioAndradeCR/Eleicao2022/blob/main/Acompanha_Presidentes_2022.ipynb\" target=\"_parent\"><img src=\"https://colab.research.google.com/assets/colab-badge.svg\" alt=\"Open In Colab\"/></a>"
      ]
    },
    {
      "cell_type": "code",
      "execution_count": null,
      "metadata": {
        "id": "FWLl4XimZQsR",
        "colab": {
          "base_uri": "https://localhost:8080/"
        },
        "outputId": "aca06b9d-a5ee-4ccd-9927-887f9f88276e"
      },
      "outputs": [
        {
          "output_type": "stream",
          "name": "stdout",
          "text": [
            "17:29:50 - 7,53% urnas apuradas - Carregando resultados\n",
            "\n",
            "Diferença entre os primeiros colocados: 5.140000000000001\n",
            "|    | nm             | e   | st   | dvt    |     vap |   pvap |\n",
            "|---:|:---------------|:----|:-----|:-------|--------:|-------:|\n",
            "|  0 | JAIR BOLSONARO | n   |      | Válido | 4725451 |  52.57 |\n",
            "|  1 | LULA           | n   |      | Válido | 4262979 |  47.43 |\n"
          ]
        }
      ],
      "source": [
        "import pandas as pd\n",
        "import requests\n",
        "from time import sleep\n",
        "from datetime import datetime, timedelta\n",
        "import json\n",
        "from IPython.display import clear_output\n",
        "\n",
        "def get_results():\n",
        "    r = requests.get('https://resultados.tse.jus.br/oficial/ele2022/545/dados-simplificados/br/br-c0001-e000545-r.json')\n",
        "    j = json.loads(r.content)\n",
        "    to_gmt3 = datetime.now() - timedelta(hours=3)\n",
        "    \n",
        "    print(f'{to_gmt3.strftime(\"%H:%M:%S\")} - {r.json()[\"pst\"]}% urnas apuradas - Carregando resultados\\n')\n",
        "       \n",
        "    return j\n",
        "\n",
        "while True:\n",
        "    clear_output(wait=True)\n",
        "    try:\n",
        "        result = get_results()\n",
        "        result_cand = pd.json_normalize(result['cand']).drop(columns=['seq', 'sqcand', 'nv', 'n', 'cc'])\n",
        "        result_cand['pvap'] = result_cand['pvap'].str.replace(',', '.')\n",
        "        result_cand['pvap'] = result_cand['pvap'].astype(float)\n",
        "        diff = abs(result_cand['pvap'].head(2).diff()).iloc[1]\n",
        "        print(f'Diferença entre os primeiros colocados: {diff}')\n",
        "\n",
        "        print(result_cand.to_markdown())\n",
        "        sleep(10)\n",
        "    except json.JSONDecodeError:\n",
        "        pass"
      ]
    }
  ],
  "metadata": {
    "colab": {
      "provenance": [],
      "include_colab_link": true
    },
    "kernelspec": {
      "display_name": "Python 3",
      "name": "python3"
    },
    "language_info": {
      "name": "python"
    }
  },
  "nbformat": 4,
  "nbformat_minor": 0
}